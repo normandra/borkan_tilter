{
 "cells": [
  {
   "cell_type": "code",
   "execution_count": 1,
   "metadata": {},
   "outputs": [],
   "source": [
    "from selenium import webdriver\n",
    "import time\n",
    "import pandas as pd\n",
    "from riotwatcher import LolWatcher, ApiError\n",
    "from random import randrange\n",
    "import time"
   ]
  },
  {
   "cell_type": "code",
   "execution_count": 2,
   "metadata": {},
   "outputs": [],
   "source": [
    "browser = webdriver.Chrome(executable_path=\"./chromedriver.exe\",keep_alive=True)\n",
    "browser.get(\"https://web.whatsapp.com/\")\n",
    "time.sleep(60 * 5)"
   ]
  },
  {
   "cell_type": "markdown",
   "metadata": {},
   "source": [
    "# Rename id for group, keyboard and enter"
   ]
  },
  {
   "cell_type": "code",
   "execution_count": 3,
   "metadata": {},
   "outputs": [],
   "source": [
    "def send_message(text):\n",
    "    browser.find_element_by_id(\"novid19\").click()\n",
    "    time.sleep(randrange(5))\n",
    "    browser.find_element_by_id(\"keyboard\").send_keys(text)\n",
    "    time.sleep(randrange(3))\n",
    "    browser.find_element_by_id(\"enter\").click()"
   ]
  },
  {
   "cell_type": "markdown",
   "metadata": {},
   "source": [
    "send_message('....')"
   ]
  },
  {
   "cell_type": "markdown",
   "metadata": {},
   "source": [
    "## riot_watcher"
   ]
  },
  {
   "cell_type": "code",
   "execution_count": 4,
   "metadata": {},
   "outputs": [],
   "source": [
    "# golbal variables\n",
    "api_key = 'API_KEY_HERE'\n",
    "watcher = LolWatcher(api_key)\n",
    "my_region = 'euw1'\n",
    "me = watcher.summoner.by_name(my_region, 'bobo+carry')"
   ]
  },
  {
   "cell_type": "markdown",
   "metadata": {},
   "source": [
    "### get latest timestamp game"
   ]
  },
  {
   "cell_type": "code",
   "execution_count": null,
   "metadata": {},
   "outputs": [],
   "source": [
    "def getMatchInfo(me):\n",
    "    my_matches = watcher.match.matchlist_by_account(my_region, me['accountId'])\n",
    "    return my_matches\n",
    "\n",
    "def getLatestTimeStamp(my_matches):\n",
    "    last_match = my_matches['matches'][0]\n",
    "    return last_match['timestamp']\n",
    "\n",
    "def getId(pIdent, name):\n",
    "    for i in pIdent:\n",
    "        if i['player']['summonerName'] == name:\n",
    "            return i['participantId']\n",
    "    \n",
    "    return 'not found'\n",
    "\n",
    "def getWin(match_detail, name):\n",
    "    for player in match_detail['participants']:\n",
    "        if player['participantId'] == getId(match_detail['participantIdentities'], 'bobo carry'):\n",
    "            return player['stats']['win']\n",
    "    return 'not found'\n",
    "\n",
    "track_start = getLatestTimeStamp(getMatchInfo(me))\n",
    "# track_start = 1607035178741\n",
    "\n",
    "loseStreak = 0\n",
    "\n",
    "while(True):\n",
    "    played_match = watcher.match.matchlist_by_account(my_region, me['accountId'], begin_time=track_start)\n",
    "    if len(played_match['matches']) > 1:\n",
    "        total_duration = 0\n",
    "        for match in list(reversed(played_match['matches']))[1:]:\n",
    "            match_detail = watcher.match.by_id(my_region, match['gameId'])\n",
    "            total_duration += match_detail['gameDuration']\n",
    "            win = getWin(match_detail, 'bobo carry')\n",
    "            if not win:\n",
    "                loseStreak += 1\n",
    "            else:\n",
    "                loseStreak = 0\n",
    "        total_duration = time.strftime('%H:%M:%S', time.gmtime(total_duration))\n",
    "        text = f'NSA (Norman Security Agent): Borkan hat vor kurzem {played_match[\"totalGames\"] - 1} Spiel(e) gespielt. Insgesamt für {total_duration} gespielt.'\n",
    "        if loseStreak > 2:\n",
    "            text += f' \\U0001F4A9 Losing streak: {loseStreak} Spiele \\U0001F4A9'\n",
    "        send_message(text)\n",
    "        track_start = played_match['matches'][0]['timestamp']\n",
    "    time.sleep(60 * 60)"
   ]
  },
  {
   "cell_type": "code",
   "execution_count": null,
   "metadata": {},
   "outputs": [],
   "source": []
  }
 ],
 "metadata": {
  "kernelspec": {
   "display_name": "Python 3",
   "language": "python",
   "name": "python3"
  },
  "language_info": {
   "codemirror_mode": {
    "name": "ipython",
    "version": 3
   },
   "file_extension": ".py",
   "mimetype": "text/x-python",
   "name": "python",
   "nbconvert_exporter": "python",
   "pygments_lexer": "ipython3",
   "version": "3.6.9"
  }
 },
 "nbformat": 4,
 "nbformat_minor": 4
}
